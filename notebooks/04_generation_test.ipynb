{
 "cells": [
  {
   "cell_type": "code",
   "execution_count": 1,
   "id": "73244878-48bd-4ddc-9665-cb61d3e62f4d",
   "metadata": {},
   "outputs": [],
   "source": [
    "# notebooks/04_generation_test.ipynb"
   ]
  },
  {
   "cell_type": "code",
   "execution_count": 2,
   "id": "42bd911e-8a8e-4cca-96aa-f57a04053bd7",
   "metadata": {},
   "outputs": [],
   "source": [
    "%run notebook_init.py"
   ]
  },
  {
   "cell_type": "code",
   "execution_count": 3,
   "id": "e0446aeb-60e7-4be3-a71f-5401fd17aed6",
   "metadata": {},
   "outputs": [],
   "source": [
    "from rag_pipeline.retriever.retrieve import query_chunks\n",
    "from rag_pipeline.llm.generator import generate_answer, format_prompt"
   ]
  },
  {
   "cell_type": "code",
   "execution_count": 4,
   "id": "52b1fbd1-6bba-4edb-8334-df3aec5072fe",
   "metadata": {},
   "outputs": [
    {
     "name": "stdout",
     "output_type": "stream",
     "text": [
      "✅ Retrieved 2 relevant chunks (requested 2)\n"
     ]
    }
   ],
   "source": [
    "query = \"Summarize the Tesla Technician Trainee Program.\"\n",
    "chunks = query_chunks(query, top_k=2)"
   ]
  },
  {
   "cell_type": "code",
   "execution_count": 5,
   "id": "63072e5a-80b7-42de-b3f2-add2954de25d",
   "metadata": {},
   "outputs": [
    {
     "name": "stdout",
     "output_type": "stream",
     "text": [
      "--- Chunk 1 ---\n",
      "Section: ITEM 1. BUSINESS\n",
      " at Tesla. We have partnered with colleges and technical academies to\n",
      "launch Tesla START in the U.S., United Kingdom and Germany. In 2023, we hired over 350 trainees for manufacturing and service roles through\n",
      "this program, providing an opportunity to transition into full-time employment.\n",
      "•\n",
      "Internsh\n",
      "--- Chunk 2 ---\n",
      "Section: ITEM 1. BUSINESS\n",
      " for our employees to add skills and develop professionally with a new Employee Educational Assistance\n",
      "Program launching in the U.S. in the spring of 2024 to help employees pursue select certificates or degrees. With virtual, self-paced education options\n",
      "available, employees can pursue a new path or\n"
     ]
    }
   ],
   "source": [
    "for i, c in enumerate(chunks):\n",
    "    print(f\"--- Chunk {i+1} ---\")\n",
    "    print(f\"Section: {c['metadata']['section']}\")\n",
    "    print(c['text'][:300])"
   ]
  },
  {
   "cell_type": "code",
   "execution_count": 9,
   "id": "af74a596-39bd-48c8-8575-9ad27bda547d",
   "metadata": {},
   "outputs": [],
   "source": [
    "dryrun = True # Set to TRUE by default"
   ]
  },
  {
   "cell_type": "code",
   "execution_count": null,
   "id": "d3f177bd-863c-4be3-874c-9477588399d9",
   "metadata": {},
   "outputs": [
    {
     "name": "stdin",
     "output_type": "stream",
     "text": [
      "Ask a question (or 'q' to quit):  Summarize the Tesla trainee Technician program\n"
     ]
    },
    {
     "name": "stdout",
     "output_type": "stream",
     "text": [
      "✅ Retrieved 5 relevant chunks (requested 5)\n",
      "\n",
      "Answer:\n",
      " Tesla offers a Technician Trainee Program providing on-the-job automotive maintenance training, resulting in an industry certification. The program targets individuals with limited experience and prepares them for employment as technicians. In 2023, Tesla hired over 1,900 Technician Trainees across the U.S., Germany, and China.\n"
     ]
    }
   ],
   "source": [
    "while True:\n",
    "    q = input(\"Ask a question (or 'q' to quit): \")\n",
    "    if q.lower() == 'q':\n",
    "        break\n",
    "    answer = generate_answer(q, query_chunks(q), model_name=\"gpt-3.5-turbo\", dry_run = dryrun)\n",
    "    print(\"\\nAnswer:\\n\", answer)"
   ]
  }
 ],
 "metadata": {
  "kernelspec": {
   "display_name": "Python (rag)",
   "language": "python",
   "name": "rag"
  },
  "language_info": {
   "codemirror_mode": {
    "name": "ipython",
    "version": 3
   },
   "file_extension": ".py",
   "mimetype": "text/x-python",
   "name": "python",
   "nbconvert_exporter": "python",
   "pygments_lexer": "ipython3",
   "version": "3.13.7"
  }
 },
 "nbformat": 4,
 "nbformat_minor": 5
}
