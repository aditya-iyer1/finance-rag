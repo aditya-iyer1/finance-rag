{
 "cells": [
  {
   "cell_type": "code",
   "execution_count": 1,
   "id": "d1c5bd57-0d19-4230-88be-9f847e7943c3",
   "metadata": {},
   "outputs": [],
   "source": [
    "%run notebook_init.py"
   ]
  },
  {
   "cell_type": "code",
   "execution_count": 2,
   "id": "cec6c39b-8c33-4910-92e8-d2212d1779a1",
   "metadata": {},
   "outputs": [],
   "source": [
    "from rag_pipeline.retriever.retrieve import query_chunks"
   ]
  },
  {
   "cell_type": "code",
   "execution_count": 3,
   "id": "951bb1f5-5c35-4be5-9cec-5295349794aa",
   "metadata": {},
   "outputs": [
    {
     "name": "stdout",
     "output_type": "stream",
     "text": [
      "Stored vector count: 232\n"
     ]
    }
   ],
   "source": [
    "from rag_pipeline.retriever.retrieve import load_chroma_collection\n",
    "collection = load_chroma_collection()\n",
    "print(\"Stored vector count:\", collection.count())"
   ]
  },
  {
   "cell_type": "code",
   "execution_count": 4,
   "id": "ed8fab72-523d-4a7f-b6c4-8707ea740d74",
   "metadata": {},
   "outputs": [],
   "source": [
    "query = \"risk\""
   ]
  },
  {
   "cell_type": "code",
   "execution_count": 9,
   "id": "916523b1-a98a-47c6-913f-422ae32ae728",
   "metadata": {},
   "outputs": [
    {
     "name": "stdout",
     "output_type": "stream",
     "text": [
      "✅ Retrieved 5 relevant chunks (requested 5)\n"
     ]
    }
   ],
   "source": [
    "results = query_chunks(\"regulatory uncertainty\", top_k = 5)"
   ]
  },
  {
   "cell_type": "code",
   "execution_count": 8,
   "id": "50f6822e-9e86-44d7-8692-f4eb119fee16",
   "metadata": {},
   "outputs": [
    {
     "name": "stdout",
     "output_type": "stream",
     "text": [
      "\n",
      "--- Chunk 1 (Distance: 0.6082) ---\n",
      "Section: Item 7A.\n",
      "Item 7A.\n",
      "Quantitative and Qualitative Disclosures about Market Risk\n",
      "45\n",
      "\n",
      "--- Chunk 2 (Distance: 0.9903) ---\n",
      "Section: Item 1A.\n",
      "Item 1A.\n",
      "Risk Factors\n",
      "14\n",
      "\n",
      "--- Chunk 3 (Distance: 1.1578) ---\n",
      "Section: ITEM 8. FINANCIAL STATEMENTS AND SUPPLEMENTARY DATA\n",
      "3 and 2022, the allowance for expected credit\n",
      "losses was $36 million and $37 million, respectively.\n",
      "Concentration of Risk\n",
      "Credit Risk\n",
      "Financial instruments that potentially subject us to a concentration of credit risk consist of cash, cash equivalents, investments, restricted cash,\n",
      "accounts receivable and other finance receivables. Our cash and investments balances are primarily on deposit at high credit quality financial institutions\n",
      "or invested in money market funds. These deposits are typical\n",
      "\n",
      "--- Chunk 4 (Distance: 1.1905) ---\n",
      "Section: ITEM 1A. RISK FACTORS\n",
      "\n",
      "storage products generate and store electricity, they have the potential to fail or cause injury to people or property. Any product liability claim may\n",
      "subject us to lawsuits and substantial monetary damages, product recalls or redesign efforts, and even a meritless claim may require us to defend it, all of\n",
      "which may generate negative publicity and be expensive and time-consuming. In most jurisdictions, we generally self-insure against the risk of product\n",
      "liability claims for vehicle exposure, \n",
      "\n",
      "--- Chunk 5 (Distance: 1.1944) ---\n",
      "Section: Item 5.\n",
      "Item 5.\n",
      "Market for Registrant's Common Equity, Related Stockholder Matters and Issuer Purchases of Equity Securities\n",
      "31\n"
     ]
    }
   ],
   "source": [
    "for i, chunk in enumerate(results):\n",
    "    print(f\"\\n--- Chunk {i+1} (Distance: {chunk['distance']:.4f}) ---\")\n",
    "    print(f\"Section: {chunk['metadata']['section']}\")\n",
    "    print(chunk[\"text\"][:500])  # Print first 500 chars"
   ]
  }
 ],
 "metadata": {
  "kernelspec": {
   "display_name": "Python (rag)",
   "language": "python",
   "name": "rag"
  },
  "language_info": {
   "codemirror_mode": {
    "name": "ipython",
    "version": 3
   },
   "file_extension": ".py",
   "mimetype": "text/x-python",
   "name": "python",
   "nbconvert_exporter": "python",
   "pygments_lexer": "ipython3",
   "version": "3.13.7"
  }
 },
 "nbformat": 4,
 "nbformat_minor": 5
}
