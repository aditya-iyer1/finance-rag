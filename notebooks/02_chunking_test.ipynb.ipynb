{
 "cells": [
  {
   "cell_type": "code",
   "execution_count": 1,
   "id": "1bc09fbd-f61c-4084-a89e-1ab09a199b9e",
   "metadata": {},
   "outputs": [],
   "source": [
    "%run notebook_init.py"
   ]
  },
  {
   "cell_type": "code",
   "execution_count": 2,
   "id": "14189468-3bc6-4b74-b43e-a5f2a6d48ed5",
   "metadata": {},
   "outputs": [],
   "source": [
    "from rag_pipeline.parser.pdf_loader import parse_pdf_sections\n",
    "from rag_pipeline.parser.chunker import chunk_all_sections"
   ]
  },
  {
   "cell_type": "code",
   "execution_count": 4,
   "id": "d77a60b3-814b-41c2-b122-089d754012f8",
   "metadata": {},
   "outputs": [],
   "source": [
    "# Load and parse\n",
    "pdf_path = \"../data/raw-pdfs/tesla-2024-10K.pdf\"\n",
    "sections = parse_pdf_sections(pdf_path)"
   ]
  },
  {
   "cell_type": "code",
   "execution_count": 5,
   "id": "9a23f1bf-0dbb-40f3-aea9-36ce54bd7fd3",
   "metadata": {},
   "outputs": [
    {
     "name": "stdout",
     "output_type": "stream",
     "text": [
      "Total chunks created: 232\n",
      "Sample chunk:\n",
      "{'section': 'Item 9.', 'chunk_id': 0, 'text': 'Item 9.\\nChanges in and Disagreements with Accountants on Accounting and Financial Disclosure\\n93', 'tokens': 20}\n"
     ]
    }
   ],
   "source": [
    "# Chunk it all\n",
    "chunks = chunk_all_sections(sections, chunk_size=512, overlap=50)\n",
    "\n",
    "print(f\"Total chunks created: {len(chunks)}\")\n",
    "print(\"Sample chunk:\")\n",
    "print(chunks[10])  # Show an example"
   ]
  }
 ],
 "metadata": {
  "kernelspec": {
   "display_name": "Python (rag)",
   "language": "python",
   "name": "rag"
  },
  "language_info": {
   "codemirror_mode": {
    "name": "ipython",
    "version": 3
   },
   "file_extension": ".py",
   "mimetype": "text/x-python",
   "name": "python",
   "nbconvert_exporter": "python",
   "pygments_lexer": "ipython3",
   "version": "3.13.7"
  }
 },
 "nbformat": 4,
 "nbformat_minor": 5
}
