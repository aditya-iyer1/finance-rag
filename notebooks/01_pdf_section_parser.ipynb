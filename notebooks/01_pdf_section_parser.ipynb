{
 "cells": [
  {
   "cell_type": "markdown",
   "id": "efa6a239-30ef-4880-bfaa-2a992fee89e5",
   "metadata": {},
   "source": [
    "# PDF Section Parser\n",
    "\n",
    "Used to inspect how PDF parser works on a sample 10-K file."
   ]
  },
  {
   "cell_type": "code",
   "execution_count": 1,
   "id": "374dc255-e6aa-4c20-a5a3-c02a6bfb6ba0",
   "metadata": {},
   "outputs": [],
   "source": [
    "%run notebook_init.py"
   ]
  },
  {
   "cell_type": "code",
   "execution_count": 2,
   "id": "3bcf0a08-6c57-482c-8dca-8e7eebab729d",
   "metadata": {},
   "outputs": [],
   "source": [
    "from rag_pipeline.parser.pdf_loader import parse_pdf_sections\n",
    "import pprint"
   ]
  },
  {
   "cell_type": "code",
   "execution_count": 5,
   "id": "6ddfcf49-9582-455d-9db9-a5762d3730eb",
   "metadata": {},
   "outputs": [
    {
     "name": "stdout",
     "output_type": "stream",
     "text": [
      "Extracted 39 sections:\n",
      "\n",
      "['Item 1.',\n",
      " 'Item 1A.',\n",
      " 'Item 2.',\n",
      " 'Item 3.',\n",
      " 'Item 4.',\n",
      " 'Item 5.',\n",
      " 'Item 6.',\n",
      " 'Item 7.',\n",
      " 'Item 7A.',\n",
      " 'Item 8.']\n"
     ]
    }
   ],
   "source": [
    "pdf_path = \"../data/raw-pdfs/tesla-2024-10K.pdf\" # Sample file\n",
    "\n",
    "sections = parse_pdf_sections(pdf_path)\n",
    "\n",
    "print(f\"Extracted {len(sections)} sections:\\n\")\n",
    "pprint.pprint(list(sections.keys())[:10]) # First 10 section titles"
   ]
  }
 ],
 "metadata": {
  "kernelspec": {
   "display_name": "Python (rag)",
   "language": "python",
   "name": "rag"
  },
  "language_info": {
   "codemirror_mode": {
    "name": "ipython",
    "version": 3
   },
   "file_extension": ".py",
   "mimetype": "text/x-python",
   "name": "python",
   "nbconvert_exporter": "python",
   "pygments_lexer": "ipython3",
   "version": "3.13.7"
  }
 },
 "nbformat": 4,
 "nbformat_minor": 5
}
